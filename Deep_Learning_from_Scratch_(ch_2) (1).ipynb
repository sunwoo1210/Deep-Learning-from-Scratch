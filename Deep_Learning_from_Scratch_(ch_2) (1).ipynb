{
  "nbformat": 4,
  "nbformat_minor": 0,
  "metadata": {
    "colab": {
      "name": "Deep Learning from Scratch (ch.2)",
      "provenance": [],
      "collapsed_sections": []
    },
    "kernelspec": {
      "name": "python3",
      "display_name": "Python 3"
    },
    "language_info": {
      "name": "python"
    }
  },
  "cells": [
    {
      "cell_type": "markdown",
      "source": [
        "# Chapter 2. 퍼셉트론"
      ],
      "metadata": {
        "id": "Js8Qzk4z7Ym-"
      }
    },
    {
      "cell_type": "markdown",
      "source": [
        "**퍼셉트론** <br>\n",
        "- 프랑크 로젠블라트, 1957년\n",
        "- 신경망(딥러닝)의 기원이 되는 알고리즘"
      ],
      "metadata": {
        "id": "Hi_MzsC-8DI1"
      }
    },
    {
      "cell_type": "markdown",
      "source": [
        "### 2.1 퍼셉트론이란?\n",
        "\n",
        "---\n",
        "\n",
        "\n",
        "- 다수의 신호를 입력으로 받아 하나의 신호를 출력\n",
        "- 퍼셉트론 신호는 '1과 0'의 두 가지 값을 가짐\n",
        "- 1(신호가 흐른다) / 0(신호가 흐르지 않는다)"
      ],
      "metadata": {
        "id": "o8eoLb738cZo"
      }
    },
    {
      "cell_type": "markdown",
      "source": [
        "### 2.2 단순한 논리 회로\n",
        "\n",
        "---\n",
        "\n",
        "\n",
        "#### 2.2.1 **AND 게이트**\n",
        "- 입력은 둘이고 출력은 하나\n",
        "- 진리표: 입력 신호와 출력 신호의 대응 표 <br>\n",
        "\n",
        "#### 2.2.2 NAND 게이트와 OR 게이트\n",
        "- **NAND 게이트**: Not AND (AND 게이트의 출력을 뒤집은 것)\n",
        "- AND 게이트를 구현하는 매개변수의 부호를 모두 반전하면 NAND 게이트\n",
        "- **OR 게이트**: 입력 신호 중 하나 이상이 1이면 출력이 1인 논리 회로"
      ],
      "metadata": {
        "id": "HTcGHYhw9wGc"
      }
    },
    {
      "cell_type": "markdown",
      "source": [
        "### 2.3 퍼셉트론 구현하기\n",
        "\n",
        "---\n"
      ],
      "metadata": {
        "id": "g9ecXTmK99GY"
      }
    },
    {
      "cell_type": "code",
      "source": [
        "# 2.3.1 간단한 구현부터\n",
        "\n",
        "def AND(x1, x2):\n",
        "  w1, w2, theta = 0.5, 0.5, 0.7\n",
        "  tmp = x1*w1 + x2*w2\n",
        "  if tmp <= theta:\n",
        "    return 0\n",
        "  elif tmp > theta:\n",
        "    return 1\n",
        "\n",
        "# 매개변수 w1, w2, theta는 함수 안에서 초기화\n",
        "# 가중치를 곱한 입력의 총합이 임계값을 넘으면 1을 반환, 그 외에는 0을 반환"
      ],
      "metadata": {
        "id": "Rn19n2rJAXiq"
      },
      "execution_count": 4,
      "outputs": []
    },
    {
      "cell_type": "code",
      "source": [
        "AND(0, 0)   # 0을 출력\n",
        "AND(1, 0)   # 0을 출력\n",
        "AND(0, 1)   # 0을 출력\n",
        "AND(1, 1)   # 1을 출력"
      ],
      "metadata": {
        "colab": {
          "base_uri": "https://localhost:8080/"
        },
        "id": "Hqng9jquAqdp",
        "outputId": "9e3c7723-b2bc-4b9d-a828-a5677a2e5247"
      },
      "execution_count": 2,
      "outputs": [
        {
          "output_type": "execute_result",
          "data": {
            "text/plain": [
              "1"
            ]
          },
          "metadata": {},
          "execution_count": 2
        }
      ]
    },
    {
      "cell_type": "code",
      "source": [
        "# 2.3.2 가중치와 편향 도입\n",
        "\n",
        "import numpy as np\n",
        "x = np.array([0, 1])   # 입력\n",
        "w = np.array([0.5, 0.5])  # 가중치\n",
        "b = -0.7  # 편향(bias)\n",
        "w*x"
      ],
      "metadata": {
        "colab": {
          "base_uri": "https://localhost:8080/"
        },
        "id": "inY52EQ-BenI",
        "outputId": "62da3ffe-c5e3-4e46-a97f-e1305399fe03"
      },
      "execution_count": 9,
      "outputs": [
        {
          "output_type": "execute_result",
          "data": {
            "text/plain": [
              "array([0. , 0.5])"
            ]
          },
          "metadata": {},
          "execution_count": 9
        }
      ]
    },
    {
      "cell_type": "code",
      "source": [
        "np.sum(w*x)"
      ],
      "metadata": {
        "colab": {
          "base_uri": "https://localhost:8080/"
        },
        "id": "BIEpsZV_C62h",
        "outputId": "a018dd87-4a05-4ca8-ace6-28a93891f093"
      },
      "execution_count": 7,
      "outputs": [
        {
          "output_type": "execute_result",
          "data": {
            "text/plain": [
              "0.5"
            ]
          },
          "metadata": {},
          "execution_count": 7
        }
      ]
    },
    {
      "cell_type": "code",
      "source": [
        "np.sum(w*x) + b"
      ],
      "metadata": {
        "colab": {
          "base_uri": "https://localhost:8080/"
        },
        "id": "6bCy8FOHC8UA",
        "outputId": "899ae17a-ab5e-4501-dd35-1ce94889c7af"
      },
      "execution_count": 10,
      "outputs": [
        {
          "output_type": "execute_result",
          "data": {
            "text/plain": [
              "-0.19999999999999996"
            ]
          },
          "metadata": {},
          "execution_count": 10
        }
      ]
    },
    {
      "cell_type": "code",
      "source": [
        "# 2.3.3 가중치와 편향 구하기\n",
        "\n",
        "def AND(x1, x2):\n",
        "  x = np.array([x1, x2])\n",
        "  w = np.array([0.5, 0.5])\n",
        "  b = -0.7\n",
        "  tmp = np.sum(w*x) + b\n",
        "  if tmp <= 0:\n",
        "    return 0\n",
        "  else:\n",
        "    return 1\n",
        "\n",
        "# 편향: 한쪽으로 치우쳐 균형을 깸\n",
        "# 두 입력이 모두 0이어도 결과로 0이 아닌 편향 값을 출력"
      ],
      "metadata": {
        "id": "V7tCHArCDWub"
      },
      "execution_count": 11,
      "outputs": []
    },
    {
      "cell_type": "code",
      "source": [
        "def NAND(x1, x2):\n",
        "  x = np.array([x1, x2])\n",
        "  w = np.array([0.5, 0.5])  #AND와는 가중치(w와 b)만 다름\n",
        "  b = 0.7\n",
        "  tmp = np.sum(w*x) + b\n",
        "  if tmp <= 0:\n",
        "    return 0\n",
        "  else:\n",
        "    return 1\n",
        "\n",
        "def OR(x1, x2):\n",
        "  x = np.array([x1, x2])\n",
        "  w = np.array([0.5, 0.5])  #AND와는 가중치 (w와 b)만 다름\n",
        "  b = - 0.2\n",
        "  tmp = np.sum(w*x) + b\n",
        "  if tmp <= 0:\n",
        "    return 0\n",
        "  else:\n",
        "    return 1"
      ],
      "metadata": {
        "id": "firrGMO0GUvR"
      },
      "execution_count": 12,
      "outputs": []
    },
    {
      "cell_type": "markdown",
      "source": [
        "### 2.4 퍼셉트론의 한계\n",
        "\n",
        "---\n",
        "\n",
        "#### 2.4.1 도전! XOR 게이트\n",
        "- XOR 게이트: 배타적 논리합 논리 회로\n",
        "- x1과 x2 중 한쪽이 1일 때만 1을 출력\n",
        "- (p. 56 그림 2-7) 직선 하나로 나누는 방법이 없어 구현하기 어려움\n",
        "\n",
        "<br>\n",
        "\n",
        "#### 2.4.2 선형과 비선형\n",
        "- (p. 57 그림 2-8) XOR 게이트, 곡선으로는 나눌 수 있음\n",
        "- **비선형** 영역: 곡선의 영역\n",
        "- **선형** 영역: 직선의 영역"
      ],
      "metadata": {
        "id": "cNvNoPKI-EIl"
      }
    },
    {
      "cell_type": "markdown",
      "source": [
        "###2.5 다층 퍼셉트론이 출동한다면\n",
        "\n",
        "---\n",
        "\n",
        "- **다층 퍼셉트론**(multi-layer perceptron): 층이 여러 개인 개인 퍼셉트론\n",
        "\n",
        "<br>\n",
        "\n",
        "#### 2.5.1 기존 게이트 조합하기\n",
        "- 단층 퍼셉트론으로는 비선형 영역을 분리할 수 없음\n",
        "- AND, NAND, OR을 조합"
      ],
      "metadata": {
        "id": "p2dgoFEb-IWm"
      }
    },
    {
      "cell_type": "code",
      "source": [
        "# 2.5.2 XOR 게이트 구현하기\n",
        "\n",
        "def XOR(x1, x2):\n",
        "  s1 = NAND(x1, x2)\n",
        "  s2 = OR(x1, x2)\n",
        "  y = AND(s1, s2)\n",
        "  return y"
      ],
      "metadata": {
        "id": "cFbmYgxQLGoj"
      },
      "execution_count": 14,
      "outputs": []
    },
    {
      "cell_type": "code",
      "execution_count": 15,
      "metadata": {
        "colab": {
          "base_uri": "https://localhost:8080/"
        },
        "id": "PNSzb3PU6zTE",
        "outputId": "4daa5cb2-79d5-4943-fcdd-2beb078dce4c"
      },
      "outputs": [
        {
          "output_type": "execute_result",
          "data": {
            "text/plain": [
              "1"
            ]
          },
          "metadata": {},
          "execution_count": 15
        }
      ],
      "source": [
        "XOR(0, 0)   # 0을 출력\n",
        "XOR(1, 0)   # 1을 출력\n",
        "XOR(0, 1)   # 1을 출력\n",
        "XOR(1, 1)   # 0을 출력"
      ]
    },
    {
      "cell_type": "code",
      "source": [
        ""
      ],
      "metadata": {
        "id": "XCVy3PzhO_QJ"
      },
      "execution_count": null,
      "outputs": []
    }
  ]
}