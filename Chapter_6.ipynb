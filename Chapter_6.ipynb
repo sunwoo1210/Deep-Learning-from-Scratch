{
  "nbformat": 4,
  "nbformat_minor": 0,
  "metadata": {
    "colab": {
      "name": "Chapter 6",
      "provenance": [],
      "authorship_tag": "ABX9TyMILYTrZhc/ZhoN+vTnFsyN",
      "include_colab_link": true
    },
    "kernelspec": {
      "name": "python3",
      "display_name": "Python 3"
    },
    "language_info": {
      "name": "python"
    }
  },
  "cells": [
    {
      "cell_type": "markdown",
      "metadata": {
        "id": "view-in-github",
        "colab_type": "text"
      },
      "source": [
        "<a href=\"https://colab.research.google.com/github/sunwoo1210/Deep-Learning-from-Scratch/blob/main/Chapter_6.ipynb\" target=\"_parent\"><img src=\"https://colab.research.google.com/assets/colab-badge.svg\" alt=\"Open In Colab\"/></a>"
      ]
    },
    {
      "cell_type": "code",
      "execution_count": 1,
      "metadata": {
        "id": "m3d1tscBc2Es"
      },
      "outputs": [],
      "source": [
        "# SGD 클래스로 구현\n",
        "\n",
        "class SGD:\n",
        "    def __init__(self, lr = 0.01):\n",
        "        self.lr = lr\n",
        "\n",
        "    def update(self, params, grads):\n",
        "        for key in params.keys():\n",
        "            params[key] -= self.lr * grads[key]"
      ]
    },
    {
      "cell_type": "code",
      "source": [
        "# 모맨텀 구현\n",
        "\n",
        "import numpy as np\n",
        "\n",
        "class Momentum:\n",
        "    def __init__(self, lr = 0.01, momentum= 0.9):\n",
        "        self.lr = lr\n",
        "        self.momentum = momentum\n",
        "        self.v = None\n",
        "\n",
        "    def update(self, params, grads):\n",
        "        if self.v is None:\n",
        "            self.v = { }\n",
        "            for key, val in params.items():\n",
        "                self.v[key] = np.zeros_like(val)\n",
        "\n",
        "            for key in params.key():\n",
        "                self.v[key] = self.momentum * self.v[key] - self.lr * grads[key]\n",
        "                params[key] += self.v[key]"
      ],
      "metadata": {
        "id": "Z4TqeCfJedrl"
      },
      "execution_count": 2,
      "outputs": []
    },
    {
      "cell_type": "code",
      "source": [
        "# AdaGrad 구현\n",
        "\n",
        "class AdaGrad:\n",
        "    def __init__(self, lr = 0.01):\n",
        "        self.lr = lr\n",
        "        self.h = None\n",
        "\n",
        "    def update(self, params, grads):\n",
        "        if self.h is None:\n",
        "            self.h = { }\n",
        "            for key, val in params, items():\n",
        "                self.h[key] = np.zeros_like(val)\n",
        "\n",
        "            for key in params, key():\n",
        "                self.h[key] += grads[key] * grads[key]\n",
        "                params[key] -= self.lr * grads[key] / (np.sqrt(self.h[key]) + 1e-7)"
      ],
      "metadata": {
        "id": "eY1eWO0_flwH"
      },
      "execution_count": 3,
      "outputs": []
    },
    {
      "cell_type": "code",
      "source": [
        "# 은닉층의 활성화값 분포\n",
        "\n",
        "import numpy as np\n",
        "import matplotlib.pyplot as plt\n",
        "\n",
        "def sigmoid(x):\n",
        "    return 1 / (1 + np.exp(-x))\n",
        "\n",
        "x = np.random.randn(1000, 100)\n",
        "node_num = 100\n",
        "hidden_layer_size = 5\n",
        "activations = { }\n",
        "\n",
        "for i in range(hidden_layer_size):\n",
        "    if i != 0:\n",
        "        x = activations[i-1]\n",
        "\n",
        "    w = np.random.randn(node_num, node_num) * 1\n",
        "    a = np.dot(x, w)\n",
        "    z = sigmoid(a)\n",
        "    activations[i] = z"
      ],
      "metadata": {
        "id": "n39N0WFBgZZ1"
      },
      "execution_count": 4,
      "outputs": []
    },
    {
      "cell_type": "code",
      "source": [
        "# 히스토그램 그리기\n",
        "\n",
        "for i, a in activations.items():\n",
        "    plt.subplot(1, len(activations), i+1)\n",
        "    plt.title(str(i+1) + \"-layer\")\n",
        "    plt.hist(a.flatten(), 30, range = (0, 1))\n",
        "plt.show()"
      ],
      "metadata": {
        "colab": {
          "base_uri": "https://localhost:8080/",
          "height": 281
        },
        "id": "Yl1T28SrhrB9",
        "outputId": "a5eb7366-b646-46ee-fed7-85d38f1b03da"
      },
      "execution_count": 6,
      "outputs": [
        {
          "output_type": "display_data",
          "data": {
            "text/plain": [
              "<Figure size 432x288 with 5 Axes>"
            ],
            "image/png": "[encoded data removed]"
          },
          "metadata": {
            "needs_background": "light"
          }
        }
      ]
    },
    {
      "cell_type": "code",
      "source": [
        "# 가중치 초깃값 설정 변경\n",
        "# w = np.random.randn(node_num, node_num) * 1\n",
        "\n",
        "w = np.random.randn(node_num, node_num) * 0.01"
      ],
      "metadata": {
        "id": "1rRdultDh_sA"
      },
      "execution_count": 9,
      "outputs": []
    },
    {
      "cell_type": "code",
      "source": [
        "# 노드값 재설정\n",
        "\n",
        "node_num = 100\n",
        "w = np.random.randn(node_num, node_num) / np.sqrt(node_num)"
      ],
      "metadata": {
        "id": "mTGAFZBriSkn"
      },
      "execution_count": 10,
      "outputs": []
    },
    {
      "cell_type": "code",
      "source": [
        "# 드롭아웃 구현\n",
        "\n",
        "class Dropout:\n",
        "    def __init__(self, dropout_ration = 0.5):\n",
        "        self.dropout_ratio = dropout_ratio\n",
        "        self.mask = None\n",
        "\n",
        "    def forward(self, x, train_fig = True):\n",
        "        if train_fig:\n",
        "            self.mask = np.random(*x.shape) > self.dropout_ratio\n",
        "            return x * self.mask\n",
        "        else:\n",
        "            return x * (1.0 - self.dropout_ratio)\n",
        "\n",
        "    def backward(self, dout):\n",
        "        return dout * self.mask"
      ],
      "metadata": {
        "id": "YWIZr7IBimvM"
      },
      "execution_count": 11,
      "outputs": []
    },
    {
      "cell_type": "code",
      "source": [
        "# 하이퍼파라미터 최적화 구현\n",
        "\n",
        "weight_decay = 10 ** np.random.uniform(-8, -4)\n",
        "lr = 10 ** np.random.uniform(-6, -2)"
      ],
      "metadata": {
        "id": "qP3VoulWj6mn"
      },
      "execution_count": 12,
      "outputs": []
    },
    {
      "cell_type": "code",
      "source": [
        ""
      ],
      "metadata": {
        "id": "zby4ZQwQkLMg"
      },
      "execution_count": null,
      "outputs": []
    }
  ]
}